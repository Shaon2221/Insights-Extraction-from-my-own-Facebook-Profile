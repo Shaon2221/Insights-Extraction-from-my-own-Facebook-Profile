{
 "cells": [
  {
   "cell_type": "code",
   "execution_count": 23,
   "metadata": {},
   "outputs": [],
   "source": [
    "import pandas as pd\n",
    "import numpy as np\n",
    "import json\n",
    "import datetime\n",
    "import matplotlib.pyplot as plt\n",
    "from datetime import date\n",
    "import calendar"
   ]
  },
  {
   "cell_type": "code",
   "execution_count": 57,
   "metadata": {},
   "outputs": [
    {
     "data": {
      "text/html": [
       "<div>\n",
       "<style scoped>\n",
       "    .dataframe tbody tr th:only-of-type {\n",
       "        vertical-align: middle;\n",
       "    }\n",
       "\n",
       "    .dataframe tbody tr th {\n",
       "        vertical-align: top;\n",
       "    }\n",
       "\n",
       "    .dataframe thead th {\n",
       "        text-align: right;\n",
       "    }\n",
       "</style>\n",
       "<table border=\"1\" class=\"dataframe\">\n",
       "  <thead>\n",
       "    <tr style=\"text-align: right;\">\n",
       "      <th></th>\n",
       "      <th>name</th>\n",
       "      <th>events</th>\n",
       "    </tr>\n",
       "  </thead>\n",
       "  <tbody>\n",
       "    <tr>\n",
       "      <th>0</th>\n",
       "      <td>Truecaller: Caller ID, block fraud &amp; scam calls</td>\n",
       "      <td>[{'id': 126694440681943, 'type': 'CUSTOM', 'ti...</td>\n",
       "    </tr>\n",
       "    <tr>\n",
       "      <th>1</th>\n",
       "      <td>skitto</td>\n",
       "      <td>[{'id': 288266964854579, 'type': 'ACTIVATE_APP...</td>\n",
       "    </tr>\n",
       "    <tr>\n",
       "      <th>2</th>\n",
       "      <td>economist.com</td>\n",
       "      <td>[{'id': 570990896342688, 'type': 'PAGE_VIEW', ...</td>\n",
       "    </tr>\n",
       "    <tr>\n",
       "      <th>3</th>\n",
       "      <td>PicsArt Photo Editor: Pic, Video &amp; Collage Maker</td>\n",
       "      <td>[{'id': 108569252539536, 'type': 'CUSTOM', 'ti...</td>\n",
       "    </tr>\n",
       "    <tr>\n",
       "      <th>4</th>\n",
       "      <td>seventeen.com</td>\n",
       "      <td>[{'id': 690796760981964, 'type': 'CUSTOM', 'ti...</td>\n",
       "    </tr>\n",
       "    <tr>\n",
       "      <th>5</th>\n",
       "      <td>Bangla News &amp; TV: Bangi News</td>\n",
       "      <td>[{'id': 148475225281123, 'type': 'CUSTOM', 'ti...</td>\n",
       "    </tr>\n",
       "    <tr>\n",
       "      <th>6</th>\n",
       "      <td>MyGP â Free Internet, Recharge, Live TV, Fle...</td>\n",
       "      <td>[{'id': 1768972503390081, 'type': 'CUSTOM', 't...</td>\n",
       "    </tr>\n",
       "    <tr>\n",
       "      <th>7</th>\n",
       "      <td>LinkedIn: Jobs, Business News &amp; Social Networking</td>\n",
       "      <td>[{'id': 468544296649173, 'type': 'ACTIVATE_APP...</td>\n",
       "    </tr>\n",
       "    <tr>\n",
       "      <th>8</th>\n",
       "      <td>evaly.com.bd</td>\n",
       "      <td>[{'id': 673562783082888, 'type': 'VIEW_CONTENT...</td>\n",
       "    </tr>\n",
       "    <tr>\n",
       "      <th>9</th>\n",
       "      <td>My Airtel - Bangladesh</td>\n",
       "      <td>[{'id': 1552040841510205, 'type': 'CUSTOM', 't...</td>\n",
       "    </tr>\n",
       "  </tbody>\n",
       "</table>\n",
       "</div>"
      ],
      "text/plain": [
       "                                                name  \\\n",
       "0    Truecaller: Caller ID, block fraud & scam calls   \n",
       "1                                             skitto   \n",
       "2                                      economist.com   \n",
       "3   PicsArt Photo Editor: Pic, Video & Collage Maker   \n",
       "4                                      seventeen.com   \n",
       "5                       Bangla News & TV: Bangi News   \n",
       "6  MyGP â Free Internet, Recharge, Live TV, Fle...   \n",
       "7  LinkedIn: Jobs, Business News & Social Networking   \n",
       "8                                       evaly.com.bd   \n",
       "9                             My Airtel - Bangladesh   \n",
       "\n",
       "                                              events  \n",
       "0  [{'id': 126694440681943, 'type': 'CUSTOM', 'ti...  \n",
       "1  [{'id': 288266964854579, 'type': 'ACTIVATE_APP...  \n",
       "2  [{'id': 570990896342688, 'type': 'PAGE_VIEW', ...  \n",
       "3  [{'id': 108569252539536, 'type': 'CUSTOM', 'ti...  \n",
       "4  [{'id': 690796760981964, 'type': 'CUSTOM', 'ti...  \n",
       "5  [{'id': 148475225281123, 'type': 'CUSTOM', 'ti...  \n",
       "6  [{'id': 1768972503390081, 'type': 'CUSTOM', 't...  \n",
       "7  [{'id': 468544296649173, 'type': 'ACTIVATE_APP...  \n",
       "8  [{'id': 673562783082888, 'type': 'VIEW_CONTENT...  \n",
       "9  [{'id': 1552040841510205, 'type': 'CUSTOM', 't...  "
      ]
     },
     "execution_count": 57,
     "metadata": {},
     "output_type": "execute_result"
    }
   ],
   "source": [
    "fb_off = pd.read_json(\"your_off-facebook_activity.json\")\n",
    "fb_off.head(10)"
   ]
  },
  {
   "cell_type": "code",
   "execution_count": 58,
   "metadata": {},
   "outputs": [],
   "source": [
    "def event_count(x):\n",
    "    s=x.split('{')\n",
    "    return len(s)"
   ]
  },
  {
   "cell_type": "code",
   "execution_count": 59,
   "metadata": {},
   "outputs": [
    {
     "data": {
      "text/plain": [
       "2"
      ]
     },
     "execution_count": 59,
     "metadata": {},
     "output_type": "execute_result"
    }
   ],
   "source": [
    "event_count(\"shaon{Sikder\")"
   ]
  },
  {
   "cell_type": "code",
   "execution_count": 60,
   "metadata": {},
   "outputs": [],
   "source": [
    "fb_off[\"event_count\"]=fb_off['events'].apply(lambda x: event_count(str(x)))"
   ]
  },
  {
   "cell_type": "code",
   "execution_count": 61,
   "metadata": {},
   "outputs": [
    {
     "data": {
      "text/html": [
       "<div>\n",
       "<style scoped>\n",
       "    .dataframe tbody tr th:only-of-type {\n",
       "        vertical-align: middle;\n",
       "    }\n",
       "\n",
       "    .dataframe tbody tr th {\n",
       "        vertical-align: top;\n",
       "    }\n",
       "\n",
       "    .dataframe thead th {\n",
       "        text-align: right;\n",
       "    }\n",
       "</style>\n",
       "<table border=\"1\" class=\"dataframe\">\n",
       "  <thead>\n",
       "    <tr style=\"text-align: right;\">\n",
       "      <th></th>\n",
       "      <th>name</th>\n",
       "      <th>events</th>\n",
       "      <th>event_count</th>\n",
       "    </tr>\n",
       "  </thead>\n",
       "  <tbody>\n",
       "    <tr>\n",
       "      <th>0</th>\n",
       "      <td>Truecaller: Caller ID,</td>\n",
       "      <td>[{'id': 126694440681943, 'type': 'CUSTOM', 'ti...</td>\n",
       "      <td>1087</td>\n",
       "    </tr>\n",
       "    <tr>\n",
       "      <th>1</th>\n",
       "      <td>skitto</td>\n",
       "      <td>[{'id': 288266964854579, 'type': 'ACTIVATE_APP...</td>\n",
       "      <td>59</td>\n",
       "    </tr>\n",
       "    <tr>\n",
       "      <th>2</th>\n",
       "      <td>economist.com</td>\n",
       "      <td>[{'id': 570990896342688, 'type': 'PAGE_VIEW', ...</td>\n",
       "      <td>2</td>\n",
       "    </tr>\n",
       "    <tr>\n",
       "      <th>3</th>\n",
       "      <td>PicsArt Photo Editor:</td>\n",
       "      <td>[{'id': 108569252539536, 'type': 'CUSTOM', 'ti...</td>\n",
       "      <td>10</td>\n",
       "    </tr>\n",
       "    <tr>\n",
       "      <th>4</th>\n",
       "      <td>seventeen.com</td>\n",
       "      <td>[{'id': 690796760981964, 'type': 'CUSTOM', 'ti...</td>\n",
       "      <td>2</td>\n",
       "    </tr>\n",
       "  </tbody>\n",
       "</table>\n",
       "</div>"
      ],
      "text/plain": [
       "                     name                                             events  \\\n",
       "0  Truecaller: Caller ID,  [{'id': 126694440681943, 'type': 'CUSTOM', 'ti...   \n",
       "1                  skitto  [{'id': 288266964854579, 'type': 'ACTIVATE_APP...   \n",
       "2           economist.com  [{'id': 570990896342688, 'type': 'PAGE_VIEW', ...   \n",
       "3  PicsArt Photo Editor:   [{'id': 108569252539536, 'type': 'CUSTOM', 'ti...   \n",
       "4           seventeen.com  [{'id': 690796760981964, 'type': 'CUSTOM', 'ti...   \n",
       "\n",
       "   event_count  \n",
       "0         1087  \n",
       "1           59  \n",
       "2            2  \n",
       "3           10  \n",
       "4            2  "
      ]
     },
     "execution_count": 61,
     "metadata": {},
     "output_type": "execute_result"
    }
   ],
   "source": [
    "fb_off[\"name\"]=fb_off['name'].apply(lambda x: str(x)[:22])\n",
    "fb_off.head()"
   ]
  },
  {
   "cell_type": "code",
   "execution_count": 62,
   "metadata": {},
   "outputs": [
    {
     "data": {
      "text/plain": [
       "<matplotlib.axes._subplots.AxesSubplot at 0x244392d7e08>"
      ]
     },
     "execution_count": 62,
     "metadata": {},
     "output_type": "execute_result"
    },
    {
     "name": "stderr",
     "output_type": "stream",
     "text": [
      "c:\\users\\shaon\\appdata\\local\\programs\\python\\python37\\lib\\site-packages\\matplotlib\\backends\\backend_agg.py:214: RuntimeWarning: Glyph 128 missing from current font.\n",
      "  font.set_text(s, 0.0, flags=flags)\n",
      "c:\\users\\shaon\\appdata\\local\\programs\\python\\python37\\lib\\site-packages\\matplotlib\\backends\\backend_agg.py:214: RuntimeWarning: Glyph 147 missing from current font.\n",
      "  font.set_text(s, 0.0, flags=flags)\n",
      "c:\\users\\shaon\\appdata\\local\\programs\\python\\python37\\lib\\site-packages\\matplotlib\\backends\\backend_agg.py:183: RuntimeWarning: Glyph 128 missing from current font.\n",
      "  font.set_text(s, 0, flags=flags)\n",
      "c:\\users\\shaon\\appdata\\local\\programs\\python\\python37\\lib\\site-packages\\matplotlib\\backends\\backend_agg.py:183: RuntimeWarning: Glyph 147 missing from current font.\n",
      "  font.set_text(s, 0, flags=flags)\n"
     ]
    },
    {
     "data": {
      "image/png": "[encoded data removed]",
      "text/plain": [
       "<Figure size 432x288 with 1 Axes>"
      ]
     },
     "metadata": {
      "needs_background": "light"
     },
     "output_type": "display_data"
    }
   ],
   "source": [
    "fb_off.sort_values('event_count',ascending=False)[:10].plot(kind='bar',x=\"name\",title=\"Most used Apps & web when I'm Offline!\")"
   ]
  },
  {
   "cell_type": "code",
   "execution_count": 64,
   "metadata": {},
   "outputs": [
    {
     "data": {
      "text/html": [
       "<div>\n",
       "<style scoped>\n",
       "    .dataframe tbody tr th:only-of-type {\n",
       "        vertical-align: middle;\n",
       "    }\n",
       "\n",
       "    .dataframe tbody tr th {\n",
       "        vertical-align: top;\n",
       "    }\n",
       "\n",
       "    .dataframe thead th {\n",
       "        text-align: right;\n",
       "    }\n",
       "</style>\n",
       "<table border=\"1\" class=\"dataframe\">\n",
       "  <thead>\n",
       "    <tr style=\"text-align: right;\">\n",
       "      <th></th>\n",
       "      <th>name</th>\n",
       "      <th>events</th>\n",
       "      <th>event_count</th>\n",
       "    </tr>\n",
       "  </thead>\n",
       "  <tbody>\n",
       "    <tr>\n",
       "      <th>0</th>\n",
       "      <td>Truecaller: Caller ID,</td>\n",
       "      <td>[{'id': 126694440681943, 'type': 'CUSTOM', 'ti...</td>\n",
       "      <td>1087</td>\n",
       "    </tr>\n",
       "    <tr>\n",
       "      <th>22</th>\n",
       "      <td>Ludo World-Ludo Supers</td>\n",
       "      <td>[{'id': 333219677162998, 'type': 'CUSTOM', 'ti...</td>\n",
       "      <td>72</td>\n",
       "    </tr>\n",
       "    <tr>\n",
       "      <th>1</th>\n",
       "      <td>skitto</td>\n",
       "      <td>[{'id': 288266964854579, 'type': 'ACTIVATE_APP...</td>\n",
       "      <td>59</td>\n",
       "    </tr>\n",
       "    <tr>\n",
       "      <th>9</th>\n",
       "      <td>My Airtel - Bangladesh</td>\n",
       "      <td>[{'id': 1552040841510205, 'type': 'CUSTOM', 't...</td>\n",
       "      <td>55</td>\n",
       "    </tr>\n",
       "    <tr>\n",
       "      <th>6</th>\n",
       "      <td>MyGP â Free Internet</td>\n",
       "      <td>[{'id': 1768972503390081, 'type': 'CUSTOM', 't...</td>\n",
       "      <td>29</td>\n",
       "    </tr>\n",
       "    <tr>\n",
       "      <th>48</th>\n",
       "      <td>Ludo World</td>\n",
       "      <td>[{'id': 333219677162998, 'type': 'CUSTOM', 'ti...</td>\n",
       "      <td>14</td>\n",
       "    </tr>\n",
       "    <tr>\n",
       "      <th>15</th>\n",
       "      <td>Adobe Lightroom - Phot</td>\n",
       "      <td>[{'id': 1551556058496822, 'type': 'CUSTOM', 't...</td>\n",
       "      <td>12</td>\n",
       "    </tr>\n",
       "    <tr>\n",
       "      <th>3</th>\n",
       "      <td>PicsArt Photo Editor:</td>\n",
       "      <td>[{'id': 108569252539536, 'type': 'CUSTOM', 'ti...</td>\n",
       "      <td>10</td>\n",
       "    </tr>\n",
       "    <tr>\n",
       "      <th>30</th>\n",
       "      <td>Document Scanner - PDF</td>\n",
       "      <td>[{'id': 2107648949462432, 'type': 'AD_IMPRESSI...</td>\n",
       "      <td>9</td>\n",
       "    </tr>\n",
       "    <tr>\n",
       "      <th>36</th>\n",
       "      <td>VIMAGE - Cinemagraph,</td>\n",
       "      <td>[{'id': 204345810312441, 'type': 'CUSTOM', 'ti...</td>\n",
       "      <td>8</td>\n",
       "    </tr>\n",
       "    <tr>\n",
       "      <th>46</th>\n",
       "      <td>Photo Lab Picture Edit</td>\n",
       "      <td>[{'id': 202248336556242, 'type': 'CUSTOM', 'ti...</td>\n",
       "      <td>8</td>\n",
       "    </tr>\n",
       "    <tr>\n",
       "      <th>24</th>\n",
       "      <td>lybrate.com</td>\n",
       "      <td>[{'id': 870454756422013, 'type': 'PAGE_VIEW', ...</td>\n",
       "      <td>5</td>\n",
       "    </tr>\n",
       "    <tr>\n",
       "      <th>14</th>\n",
       "      <td>Video Editor &amp; Video M</td>\n",
       "      <td>[{'id': 767376303308504, 'type': 'CUSTOM', 'ti...</td>\n",
       "      <td>5</td>\n",
       "    </tr>\n",
       "    <tr>\n",
       "      <th>7</th>\n",
       "      <td>LinkedIn: Jobs, Busine</td>\n",
       "      <td>[{'id': 468544296649173, 'type': 'ACTIVATE_APP...</td>\n",
       "      <td>4</td>\n",
       "    </tr>\n",
       "    <tr>\n",
       "      <th>8</th>\n",
       "      <td>evaly.com.bd</td>\n",
       "      <td>[{'id': 673562783082888, 'type': 'VIEW_CONTENT...</td>\n",
       "      <td>4</td>\n",
       "    </tr>\n",
       "  </tbody>\n",
       "</table>\n",
       "</div>"
      ],
      "text/plain": [
       "                      name                                             events  \\\n",
       "0   Truecaller: Caller ID,  [{'id': 126694440681943, 'type': 'CUSTOM', 'ti...   \n",
       "22  Ludo World-Ludo Supers  [{'id': 333219677162998, 'type': 'CUSTOM', 'ti...   \n",
       "1                   skitto  [{'id': 288266964854579, 'type': 'ACTIVATE_APP...   \n",
       "9   My Airtel - Bangladesh  [{'id': 1552040841510205, 'type': 'CUSTOM', 't...   \n",
       "6   MyGP â Free Internet  [{'id': 1768972503390081, 'type': 'CUSTOM', 't...   \n",
       "48              Ludo World  [{'id': 333219677162998, 'type': 'CUSTOM', 'ti...   \n",
       "15  Adobe Lightroom - Phot  [{'id': 1551556058496822, 'type': 'CUSTOM', 't...   \n",
       "3   PicsArt Photo Editor:   [{'id': 108569252539536, 'type': 'CUSTOM', 'ti...   \n",
       "30  Document Scanner - PDF  [{'id': 2107648949462432, 'type': 'AD_IMPRESSI...   \n",
       "36  VIMAGE - Cinemagraph,   [{'id': 204345810312441, 'type': 'CUSTOM', 'ti...   \n",
       "46  Photo Lab Picture Edit  [{'id': 202248336556242, 'type': 'CUSTOM', 'ti...   \n",
       "24             lybrate.com  [{'id': 870454756422013, 'type': 'PAGE_VIEW', ...   \n",
       "14  Video Editor & Video M  [{'id': 767376303308504, 'type': 'CUSTOM', 'ti...   \n",
       "7   LinkedIn: Jobs, Busine  [{'id': 468544296649173, 'type': 'ACTIVATE_APP...   \n",
       "8             evaly.com.bd  [{'id': 673562783082888, 'type': 'VIEW_CONTENT...   \n",
       "\n",
       "    event_count  \n",
       "0          1087  \n",
       "22           72  \n",
       "1            59  \n",
       "9            55  \n",
       "6            29  \n",
       "48           14  \n",
       "15           12  \n",
       "3            10  \n",
       "30            9  \n",
       "36            8  \n",
       "46            8  \n",
       "24            5  \n",
       "14            5  \n",
       "7             4  \n",
       "8             4  "
      ]
     },
     "execution_count": 64,
     "metadata": {},
     "output_type": "execute_result"
    }
   ],
   "source": [
    "fb_off.sort_values('event_count',ascending=False)[:15]"
   ]
  }
 ],
 "metadata": {
  "kernelspec": {
   "display_name": "Python 3",
   "language": "python",
   "name": "python3"
  },
  "language_info": {
   "codemirror_mode": {
    "name": "ipython",
    "version": 3
   },
   "file_extension": ".py",
   "mimetype": "text/x-python",
   "name": "python",
   "nbconvert_exporter": "python",
   "pygments_lexer": "ipython3",
   "version": "3.7.7"
  }
 },
 "nbformat": 4,
 "nbformat_minor": 4
}
