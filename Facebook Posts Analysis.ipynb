{
 "cells": [
  {
   "cell_type": "code",
   "execution_count": 1,
   "metadata": {},
   "outputs": [],
   "source": [
    "import pandas as pd\n",
    "import numpy as np\n",
    "import json\n",
    "import datetime\n",
    "import matplotlib.pyplot as plt\n",
    "from datetime import date\n",
    "import calendar"
   ]
  },
  {
   "cell_type": "code",
   "execution_count": 2,
   "metadata": {
    "scrolled": true
   },
   "outputs": [
    {
     "data": {
      "text/html": [
       "<div>\n",
       "<style scoped>\n",
       "    .dataframe tbody tr th:only-of-type {\n",
       "        vertical-align: middle;\n",
       "    }\n",
       "\n",
       "    .dataframe tbody tr th {\n",
       "        vertical-align: top;\n",
       "    }\n",
       "\n",
       "    .dataframe thead th {\n",
       "        text-align: right;\n",
       "    }\n",
       "</style>\n",
       "<table border=\"1\" class=\"dataframe\">\n",
       "  <thead>\n",
       "    <tr style=\"text-align: right;\">\n",
       "      <th></th>\n",
       "      <th>timestamp</th>\n",
       "      <th>data</th>\n",
       "      <th>title</th>\n",
       "      <th>attachments</th>\n",
       "      <th>tags</th>\n",
       "    </tr>\n",
       "  </thead>\n",
       "  <tbody>\n",
       "    <tr>\n",
       "      <th>0</th>\n",
       "      <td>2020-09-20 14:08:32</td>\n",
       "      <td>[{'post': 'For whom it may concern..'}]</td>\n",
       "      <td>Shaon Sikder posted in Department of ECE,EWU.</td>\n",
       "      <td>NaN</td>\n",
       "      <td>NaN</td>\n",
       "    </tr>\n",
       "    <tr>\n",
       "      <th>1</th>\n",
       "      <td>2020-09-20 14:01:13</td>\n",
       "      <td>[{'post': 'For whom it may concern..'}]</td>\n",
       "      <td>Shaon Sikder posted in EWU ECE Telecom Rocker's.</td>\n",
       "      <td>NaN</td>\n",
       "      <td>NaN</td>\n",
       "    </tr>\n",
       "    <tr>\n",
       "      <th>2</th>\n",
       "      <td>2020-09-03 07:29:59</td>\n",
       "      <td>[{'post': '**Data Science in Python**\n",
       "\n",
       "à¦¯à¦à...</td>\n",
       "      <td>Shaon Sikder posted in Data Science Bangladesh...</td>\n",
       "      <td>[{'data': [{'external_context': {'url': 'https...</td>\n",
       "      <td>NaN</td>\n",
       "    </tr>\n",
       "    <tr>\n",
       "      <th>3</th>\n",
       "      <td>2020-09-01 16:49:35</td>\n",
       "      <td>[{'post': 'Hello data enthusiasts people, I'm ...</td>\n",
       "      <td>Shaon Sikder updated his status.</td>\n",
       "      <td>NaN</td>\n",
       "      <td>NaN</td>\n",
       "    </tr>\n",
       "    <tr>\n",
       "      <th>4</th>\n",
       "      <td>2020-09-01 13:57:00</td>\n",
       "      <td>[{'update_timestamp': 1598968620}]</td>\n",
       "      <td>NaN</td>\n",
       "      <td>[]</td>\n",
       "      <td>NaN</td>\n",
       "    </tr>\n",
       "  </tbody>\n",
       "</table>\n",
       "</div>"
      ],
      "text/plain": [
       "            timestamp                                               data  \\\n",
       "0 2020-09-20 14:08:32            [{'post': 'For whom it may concern..'}]   \n",
       "1 2020-09-20 14:01:13            [{'post': 'For whom it may concern..'}]   \n",
       "2 2020-09-03 07:29:59  [{'post': '**Data Science in Python**\n",
       "\n",
       "à¦¯à¦à...   \n",
       "3 2020-09-01 16:49:35  [{'post': 'Hello data enthusiasts people, I'm ...   \n",
       "4 2020-09-01 13:57:00                 [{'update_timestamp': 1598968620}]   \n",
       "\n",
       "                                               title  \\\n",
       "0      Shaon Sikder posted in Department of ECE,EWU.   \n",
       "1   Shaon Sikder posted in EWU ECE Telecom Rocker's.   \n",
       "2  Shaon Sikder posted in Data Science Bangladesh...   \n",
       "3                   Shaon Sikder updated his status.   \n",
       "4                                                NaN   \n",
       "\n",
       "                                         attachments tags  \n",
       "0                                                NaN  NaN  \n",
       "1                                                NaN  NaN  \n",
       "2  [{'data': [{'external_context': {'url': 'https...  NaN  \n",
       "3                                                NaN  NaN  \n",
       "4                                                 []  NaN  "
      ]
     },
     "execution_count": 2,
     "metadata": {},
     "output_type": "execute_result"
    }
   ],
   "source": [
    "df_mypost = pd.read_json(\"your_posts_1.json\")\n",
    "df_mypost.head()"
   ]
  },
  {
   "cell_type": "code",
   "execution_count": 3,
   "metadata": {},
   "outputs": [],
   "source": [
    "def weekday(x):\n",
    "    d=calendar.day_name[x]\n",
    "    return d \n",
    "\n",
    "def month_name(x):\n",
    "    m =calendar.month_name[x]\n",
    "    return m "
   ]
  },
  {
   "cell_type": "code",
   "execution_count": 4,
   "metadata": {
    "scrolled": true
   },
   "outputs": [],
   "source": [
    "#I need to convert this into a readable datetime \n",
    "#create month, day, year and time columns\n",
    "df_mypost[\"year\"] = pd.DatetimeIndex(df_mypost['timestamp']).year\n",
    "\n",
    "df_mypost[\"month\"] = pd.DatetimeIndex(df_mypost['timestamp']).month\n",
    "df_mypost[\"month\"] = df_mypost[\"month\"].apply(lambda x: month_name(x))\n",
    "\n",
    "df_mypost[\"week_day\"] = pd.DatetimeIndex(df_mypost['timestamp']).weekday\n",
    "df_mypost[\"week_day\"] = df_mypost[\"week_day\"].apply(lambda x: weekday(x))\n",
    "\n",
    "df_mypost[\"day\"] = pd.DatetimeIndex(df_mypost['timestamp']).day\n",
    "df_mypost[\"time\"] = pd.DatetimeIndex(df_mypost['timestamp']).time\n",
    "\n",
    "df_mypost['month_year'] = pd.to_datetime(df_mypost['timestamp']).dt.to_period('M')"
   ]
  },
  {
   "cell_type": "code",
   "execution_count": 5,
   "metadata": {},
   "outputs": [
    {
     "data": {
      "text/html": [
       "<div>\n",
       "<style scoped>\n",
       "    .dataframe tbody tr th:only-of-type {\n",
       "        vertical-align: middle;\n",
       "    }\n",
       "\n",
       "    .dataframe tbody tr th {\n",
       "        vertical-align: top;\n",
       "    }\n",
       "\n",
       "    .dataframe thead th {\n",
       "        text-align: right;\n",
       "    }\n",
       "</style>\n",
       "<table border=\"1\" class=\"dataframe\">\n",
       "  <thead>\n",
       "    <tr style=\"text-align: right;\">\n",
       "      <th></th>\n",
       "      <th>timestamp</th>\n",
       "      <th>data</th>\n",
       "      <th>title</th>\n",
       "      <th>attachments</th>\n",
       "      <th>tags</th>\n",
       "      <th>year</th>\n",
       "      <th>month</th>\n",
       "      <th>week_day</th>\n",
       "      <th>day</th>\n",
       "      <th>time</th>\n",
       "      <th>month_year</th>\n",
       "    </tr>\n",
       "  </thead>\n",
       "  <tbody>\n",
       "    <tr>\n",
       "      <th>0</th>\n",
       "      <td>2020-09-20 14:08:32</td>\n",
       "      <td>[{'post': 'For whom it may concern..'}]</td>\n",
       "      <td>Shaon Sikder posted in Department of ECE,EWU.</td>\n",
       "      <td>NaN</td>\n",
       "      <td>NaN</td>\n",
       "      <td>2020</td>\n",
       "      <td>September</td>\n",
       "      <td>Sunday</td>\n",
       "      <td>20</td>\n",
       "      <td>14:08:32</td>\n",
       "      <td>2020-09</td>\n",
       "    </tr>\n",
       "    <tr>\n",
       "      <th>1</th>\n",
       "      <td>2020-09-20 14:01:13</td>\n",
       "      <td>[{'post': 'For whom it may concern..'}]</td>\n",
       "      <td>Shaon Sikder posted in EWU ECE Telecom Rocker's.</td>\n",
       "      <td>NaN</td>\n",
       "      <td>NaN</td>\n",
       "      <td>2020</td>\n",
       "      <td>September</td>\n",
       "      <td>Sunday</td>\n",
       "      <td>20</td>\n",
       "      <td>14:01:13</td>\n",
       "      <td>2020-09</td>\n",
       "    </tr>\n",
       "    <tr>\n",
       "      <th>2</th>\n",
       "      <td>2020-09-03 07:29:59</td>\n",
       "      <td>[{'post': '**Data Science in Python**\n",
       "\n",
       "à¦¯à¦à...</td>\n",
       "      <td>Shaon Sikder posted in Data Science Bangladesh...</td>\n",
       "      <td>[{'data': [{'external_context': {'url': 'https...</td>\n",
       "      <td>NaN</td>\n",
       "      <td>2020</td>\n",
       "      <td>September</td>\n",
       "      <td>Thursday</td>\n",
       "      <td>3</td>\n",
       "      <td>07:29:59</td>\n",
       "      <td>2020-09</td>\n",
       "    </tr>\n",
       "    <tr>\n",
       "      <th>3</th>\n",
       "      <td>2020-09-01 16:49:35</td>\n",
       "      <td>[{'post': 'Hello data enthusiasts people, I'm ...</td>\n",
       "      <td>Shaon Sikder updated his status.</td>\n",
       "      <td>NaN</td>\n",
       "      <td>NaN</td>\n",
       "      <td>2020</td>\n",
       "      <td>September</td>\n",
       "      <td>Tuesday</td>\n",
       "      <td>1</td>\n",
       "      <td>16:49:35</td>\n",
       "      <td>2020-09</td>\n",
       "    </tr>\n",
       "    <tr>\n",
       "      <th>4</th>\n",
       "      <td>2020-09-01 13:57:00</td>\n",
       "      <td>[{'update_timestamp': 1598968620}]</td>\n",
       "      <td>NaN</td>\n",
       "      <td>[]</td>\n",
       "      <td>NaN</td>\n",
       "      <td>2020</td>\n",
       "      <td>September</td>\n",
       "      <td>Tuesday</td>\n",
       "      <td>1</td>\n",
       "      <td>13:57:00</td>\n",
       "      <td>2020-09</td>\n",
       "    </tr>\n",
       "    <tr>\n",
       "      <th>...</th>\n",
       "      <td>...</td>\n",
       "      <td>...</td>\n",
       "      <td>...</td>\n",
       "      <td>...</td>\n",
       "      <td>...</td>\n",
       "      <td>...</td>\n",
       "      <td>...</td>\n",
       "      <td>...</td>\n",
       "      <td>...</td>\n",
       "      <td>...</td>\n",
       "      <td>...</td>\n",
       "    </tr>\n",
       "    <tr>\n",
       "      <th>4152</th>\n",
       "      <td>2013-12-16 05:46:33</td>\n",
       "      <td>[{'post': 'HAPPPPY BIRTHDAY 2 U'}]</td>\n",
       "      <td>Shaon Sikder wrote on à¦à§à¦§à§à¦²à§ à¦¬à¦...</td>\n",
       "      <td>NaN</td>\n",
       "      <td>NaN</td>\n",
       "      <td>2013</td>\n",
       "      <td>December</td>\n",
       "      <td>Monday</td>\n",
       "      <td>16</td>\n",
       "      <td>05:46:33</td>\n",
       "      <td>2013-12</td>\n",
       "    </tr>\n",
       "    <tr>\n",
       "      <th>4153</th>\n",
       "      <td>2013-12-15 18:40:03</td>\n",
       "      <td>[{'post': 'à¦à¦ à¦¸à§à¦ à¦à¦¤à¦¿à¦¹à¦¾à¦¸...</td>\n",
       "      <td>Shaon Sikder updated his status.</td>\n",
       "      <td>NaN</td>\n",
       "      <td>NaN</td>\n",
       "      <td>2013</td>\n",
       "      <td>December</td>\n",
       "      <td>Sunday</td>\n",
       "      <td>15</td>\n",
       "      <td>18:40:03</td>\n",
       "      <td>2013-12</td>\n",
       "    </tr>\n",
       "    <tr>\n",
       "      <th>4154</th>\n",
       "      <td>2013-12-15 18:04:11</td>\n",
       "      <td>NaN</td>\n",
       "      <td>NaN</td>\n",
       "      <td>[{'data': [{'media': {'uri': 'photos_and_video...</td>\n",
       "      <td>[Panna Das, Halder Shuvo, Tapu Mondal]</td>\n",
       "      <td>2013</td>\n",
       "      <td>December</td>\n",
       "      <td>Sunday</td>\n",
       "      <td>15</td>\n",
       "      <td>18:04:11</td>\n",
       "      <td>2013-12</td>\n",
       "    </tr>\n",
       "    <tr>\n",
       "      <th>4155</th>\n",
       "      <td>2013-12-14 03:51:15</td>\n",
       "      <td>[{'post': 'Happpy Birthday 2 u'}]</td>\n",
       "      <td>Shaon Sikder wrote on Suvankar Mondal's timeline.</td>\n",
       "      <td>NaN</td>\n",
       "      <td>NaN</td>\n",
       "      <td>2013</td>\n",
       "      <td>December</td>\n",
       "      <td>Saturday</td>\n",
       "      <td>14</td>\n",
       "      <td>03:51:15</td>\n",
       "      <td>2013-12</td>\n",
       "    </tr>\n",
       "    <tr>\n",
       "      <th>4156</th>\n",
       "      <td>2013-12-01 03:08:42</td>\n",
       "      <td>[{'post': 'Happpppy BIRTHday\r\n",
       " Like this page&gt;...</td>\n",
       "      <td>Shaon Sikder wrote on à¦¸à¦¬à§à¦ à¦à¦¹à¦®à§...</td>\n",
       "      <td>NaN</td>\n",
       "      <td>NaN</td>\n",
       "      <td>2013</td>\n",
       "      <td>December</td>\n",
       "      <td>Sunday</td>\n",
       "      <td>1</td>\n",
       "      <td>03:08:42</td>\n",
       "      <td>2013-12</td>\n",
       "    </tr>\n",
       "  </tbody>\n",
       "</table>\n",
       "<p>4157 rows × 11 columns</p>\n",
       "</div>"
      ],
      "text/plain": [
       "               timestamp                                               data  \\\n",
       "0    2020-09-20 14:08:32            [{'post': 'For whom it may concern..'}]   \n",
       "1    2020-09-20 14:01:13            [{'post': 'For whom it may concern..'}]   \n",
       "2    2020-09-03 07:29:59  [{'post': '**Data Science in Python**\n",
       "\n",
       "à¦¯à¦à...   \n",
       "3    2020-09-01 16:49:35  [{'post': 'Hello data enthusiasts people, I'm ...   \n",
       "4    2020-09-01 13:57:00                 [{'update_timestamp': 1598968620}]   \n",
       "...                  ...                                                ...   \n",
       "4152 2013-12-16 05:46:33                 [{'post': 'HAPPPPY BIRTHDAY 2 U'}]   \n",
       "4153 2013-12-15 18:40:03  [{'post': 'à¦à¦ à¦¸à§à¦ à¦à¦¤à¦¿à¦¹à¦¾à¦¸...   \n",
       "4154 2013-12-15 18:04:11                                                NaN   \n",
       "4155 2013-12-14 03:51:15                  [{'post': 'Happpy Birthday 2 u'}]   \n",
       "4156 2013-12-01 03:08:42  [{'post': 'Happpppy BIRTHday\n",
       " Like this page>...   \n",
       "\n",
       "                                                  title  \\\n",
       "0         Shaon Sikder posted in Department of ECE,EWU.   \n",
       "1      Shaon Sikder posted in EWU ECE Telecom Rocker's.   \n",
       "2     Shaon Sikder posted in Data Science Bangladesh...   \n",
       "3                      Shaon Sikder updated his status.   \n",
       "4                                                   NaN   \n",
       "...                                                 ...   \n",
       "4152  Shaon Sikder wrote on à¦à§à¦§à§à¦²à§ à¦¬à¦...   \n",
       "4153                   Shaon Sikder updated his status.   \n",
       "4154                                                NaN   \n",
       "4155  Shaon Sikder wrote on Suvankar Mondal's timeline.   \n",
       "4156  Shaon Sikder wrote on à¦¸à¦¬à§à¦ à¦à¦¹à¦®à§...   \n",
       "\n",
       "                                            attachments  \\\n",
       "0                                                   NaN   \n",
       "1                                                   NaN   \n",
       "2     [{'data': [{'external_context': {'url': 'https...   \n",
       "3                                                   NaN   \n",
       "4                                                    []   \n",
       "...                                                 ...   \n",
       "4152                                                NaN   \n",
       "4153                                                NaN   \n",
       "4154  [{'data': [{'media': {'uri': 'photos_and_video...   \n",
       "4155                                                NaN   \n",
       "4156                                                NaN   \n",
       "\n",
       "                                        tags  year      month  week_day  day  \\\n",
       "0                                        NaN  2020  September    Sunday   20   \n",
       "1                                        NaN  2020  September    Sunday   20   \n",
       "2                                        NaN  2020  September  Thursday    3   \n",
       "3                                        NaN  2020  September   Tuesday    1   \n",
       "4                                        NaN  2020  September   Tuesday    1   \n",
       "...                                      ...   ...        ...       ...  ...   \n",
       "4152                                     NaN  2013   December    Monday   16   \n",
       "4153                                     NaN  2013   December    Sunday   15   \n",
       "4154  [Panna Das, Halder Shuvo, Tapu Mondal]  2013   December    Sunday   15   \n",
       "4155                                     NaN  2013   December  Saturday   14   \n",
       "4156                                     NaN  2013   December    Sunday    1   \n",
       "\n",
       "          time month_year  \n",
       "0     14:08:32    2020-09  \n",
       "1     14:01:13    2020-09  \n",
       "2     07:29:59    2020-09  \n",
       "3     16:49:35    2020-09  \n",
       "4     13:57:00    2020-09  \n",
       "...        ...        ...  \n",
       "4152  05:46:33    2013-12  \n",
       "4153  18:40:03    2013-12  \n",
       "4154  18:04:11    2013-12  \n",
       "4155  03:51:15    2013-12  \n",
       "4156  03:08:42    2013-12  \n",
       "\n",
       "[4157 rows x 11 columns]"
      ]
     },
     "execution_count": 5,
     "metadata": {},
     "output_type": "execute_result"
    }
   ],
   "source": [
    "df_mypost"
   ]
  },
  {
   "cell_type": "code",
   "execution_count": 6,
   "metadata": {},
   "outputs": [
    {
     "name": "stdout",
     "output_type": "stream",
     "text": [
      "<class 'pandas.core.frame.DataFrame'>\n",
      "RangeIndex: 4157 entries, 0 to 4156\n",
      "Data columns (total 11 columns):\n",
      " #   Column       Non-Null Count  Dtype         \n",
      "---  ------       --------------  -----         \n",
      " 0   timestamp    4157 non-null   datetime64[ns]\n",
      " 1   data         3777 non-null   object        \n",
      " 2   title        3082 non-null   object        \n",
      " 3   attachments  2552 non-null   object        \n",
      " 4   tags         51 non-null     object        \n",
      " 5   year         4157 non-null   int64         \n",
      " 6   month        4157 non-null   object        \n",
      " 7   week_day     4157 non-null   object        \n",
      " 8   day          4157 non-null   int64         \n",
      " 9   time         4157 non-null   object        \n",
      " 10  month_year   4157 non-null   period[M]     \n",
      "dtypes: datetime64[ns](1), int64(2), object(7), period[M](1)\n",
      "memory usage: 357.4+ KB\n"
     ]
    }
   ],
   "source": [
    "df_mypost.info()"
   ]
  },
  {
   "cell_type": "code",
   "execution_count": 7,
   "metadata": {},
   "outputs": [],
   "source": [
    "#making the assumption that if 95% of the rows are NaN values, the column doesn’t contain valuable info for the purposes of our analysis\n",
    "#use dropna and specify threshhold of na values\n",
    "df_mypost = df_mypost.dropna(thresh=len(df_mypost)*0.05, axis=1)"
   ]
  },
  {
   "cell_type": "code",
   "execution_count": 8,
   "metadata": {},
   "outputs": [
    {
     "data": {
      "text/html": [
       "<div>\n",
       "<style scoped>\n",
       "    .dataframe tbody tr th:only-of-type {\n",
       "        vertical-align: middle;\n",
       "    }\n",
       "\n",
       "    .dataframe tbody tr th {\n",
       "        vertical-align: top;\n",
       "    }\n",
       "\n",
       "    .dataframe thead th {\n",
       "        text-align: right;\n",
       "    }\n",
       "</style>\n",
       "<table border=\"1\" class=\"dataframe\">\n",
       "  <thead>\n",
       "    <tr style=\"text-align: right;\">\n",
       "      <th></th>\n",
       "      <th>timestamp</th>\n",
       "      <th>data</th>\n",
       "      <th>title</th>\n",
       "      <th>attachments</th>\n",
       "      <th>year</th>\n",
       "      <th>month</th>\n",
       "      <th>week_day</th>\n",
       "      <th>day</th>\n",
       "      <th>time</th>\n",
       "      <th>month_year</th>\n",
       "    </tr>\n",
       "  </thead>\n",
       "  <tbody>\n",
       "    <tr>\n",
       "      <th>0</th>\n",
       "      <td>2020-09-20 14:08:32</td>\n",
       "      <td>[{'post': 'For whom it may concern..'}]</td>\n",
       "      <td>Shaon Sikder posted in Department of ECE,EWU.</td>\n",
       "      <td>NaN</td>\n",
       "      <td>2020</td>\n",
       "      <td>September</td>\n",
       "      <td>Sunday</td>\n",
       "      <td>20</td>\n",
       "      <td>14:08:32</td>\n",
       "      <td>2020-09</td>\n",
       "    </tr>\n",
       "    <tr>\n",
       "      <th>1</th>\n",
       "      <td>2020-09-20 14:01:13</td>\n",
       "      <td>[{'post': 'For whom it may concern..'}]</td>\n",
       "      <td>Shaon Sikder posted in EWU ECE Telecom Rocker's.</td>\n",
       "      <td>NaN</td>\n",
       "      <td>2020</td>\n",
       "      <td>September</td>\n",
       "      <td>Sunday</td>\n",
       "      <td>20</td>\n",
       "      <td>14:01:13</td>\n",
       "      <td>2020-09</td>\n",
       "    </tr>\n",
       "    <tr>\n",
       "      <th>2</th>\n",
       "      <td>2020-09-03 07:29:59</td>\n",
       "      <td>[{'post': '**Data Science in Python**\n",
       "\n",
       "à¦¯à¦à...</td>\n",
       "      <td>Shaon Sikder posted in Data Science Bangladesh...</td>\n",
       "      <td>[{'data': [{'external_context': {'url': 'https...</td>\n",
       "      <td>2020</td>\n",
       "      <td>September</td>\n",
       "      <td>Thursday</td>\n",
       "      <td>3</td>\n",
       "      <td>07:29:59</td>\n",
       "      <td>2020-09</td>\n",
       "    </tr>\n",
       "    <tr>\n",
       "      <th>3</th>\n",
       "      <td>2020-09-01 16:49:35</td>\n",
       "      <td>[{'post': 'Hello data enthusiasts people, I'm ...</td>\n",
       "      <td>Shaon Sikder updated his status.</td>\n",
       "      <td>NaN</td>\n",
       "      <td>2020</td>\n",
       "      <td>September</td>\n",
       "      <td>Tuesday</td>\n",
       "      <td>1</td>\n",
       "      <td>16:49:35</td>\n",
       "      <td>2020-09</td>\n",
       "    </tr>\n",
       "    <tr>\n",
       "      <th>4</th>\n",
       "      <td>2020-09-01 13:57:00</td>\n",
       "      <td>[{'update_timestamp': 1598968620}]</td>\n",
       "      <td>NaN</td>\n",
       "      <td>[]</td>\n",
       "      <td>2020</td>\n",
       "      <td>September</td>\n",
       "      <td>Tuesday</td>\n",
       "      <td>1</td>\n",
       "      <td>13:57:00</td>\n",
       "      <td>2020-09</td>\n",
       "    </tr>\n",
       "    <tr>\n",
       "      <th>...</th>\n",
       "      <td>...</td>\n",
       "      <td>...</td>\n",
       "      <td>...</td>\n",
       "      <td>...</td>\n",
       "      <td>...</td>\n",
       "      <td>...</td>\n",
       "      <td>...</td>\n",
       "      <td>...</td>\n",
       "      <td>...</td>\n",
       "      <td>...</td>\n",
       "    </tr>\n",
       "    <tr>\n",
       "      <th>4152</th>\n",
       "      <td>2013-12-16 05:46:33</td>\n",
       "      <td>[{'post': 'HAPPPPY BIRTHDAY 2 U'}]</td>\n",
       "      <td>Shaon Sikder wrote on à¦à§à¦§à§à¦²à§ à¦¬à¦...</td>\n",
       "      <td>NaN</td>\n",
       "      <td>2013</td>\n",
       "      <td>December</td>\n",
       "      <td>Monday</td>\n",
       "      <td>16</td>\n",
       "      <td>05:46:33</td>\n",
       "      <td>2013-12</td>\n",
       "    </tr>\n",
       "    <tr>\n",
       "      <th>4153</th>\n",
       "      <td>2013-12-15 18:40:03</td>\n",
       "      <td>[{'post': 'à¦à¦ à¦¸à§à¦ à¦à¦¤à¦¿à¦¹à¦¾à¦¸...</td>\n",
       "      <td>Shaon Sikder updated his status.</td>\n",
       "      <td>NaN</td>\n",
       "      <td>2013</td>\n",
       "      <td>December</td>\n",
       "      <td>Sunday</td>\n",
       "      <td>15</td>\n",
       "      <td>18:40:03</td>\n",
       "      <td>2013-12</td>\n",
       "    </tr>\n",
       "    <tr>\n",
       "      <th>4154</th>\n",
       "      <td>2013-12-15 18:04:11</td>\n",
       "      <td>NaN</td>\n",
       "      <td>NaN</td>\n",
       "      <td>[{'data': [{'media': {'uri': 'photos_and_video...</td>\n",
       "      <td>2013</td>\n",
       "      <td>December</td>\n",
       "      <td>Sunday</td>\n",
       "      <td>15</td>\n",
       "      <td>18:04:11</td>\n",
       "      <td>2013-12</td>\n",
       "    </tr>\n",
       "    <tr>\n",
       "      <th>4155</th>\n",
       "      <td>2013-12-14 03:51:15</td>\n",
       "      <td>[{'post': 'Happpy Birthday 2 u'}]</td>\n",
       "      <td>Shaon Sikder wrote on Suvankar Mondal's timeline.</td>\n",
       "      <td>NaN</td>\n",
       "      <td>2013</td>\n",
       "      <td>December</td>\n",
       "      <td>Saturday</td>\n",
       "      <td>14</td>\n",
       "      <td>03:51:15</td>\n",
       "      <td>2013-12</td>\n",
       "    </tr>\n",
       "    <tr>\n",
       "      <th>4156</th>\n",
       "      <td>2013-12-01 03:08:42</td>\n",
       "      <td>[{'post': 'Happpppy BIRTHday\r\n",
       " Like this page&gt;...</td>\n",
       "      <td>Shaon Sikder wrote on à¦¸à¦¬à§à¦ à¦à¦¹à¦®à§...</td>\n",
       "      <td>NaN</td>\n",
       "      <td>2013</td>\n",
       "      <td>December</td>\n",
       "      <td>Sunday</td>\n",
       "      <td>1</td>\n",
       "      <td>03:08:42</td>\n",
       "      <td>2013-12</td>\n",
       "    </tr>\n",
       "  </tbody>\n",
       "</table>\n",
       "<p>4157 rows × 10 columns</p>\n",
       "</div>"
      ],
      "text/plain": [
       "               timestamp                                               data  \\\n",
       "0    2020-09-20 14:08:32            [{'post': 'For whom it may concern..'}]   \n",
       "1    2020-09-20 14:01:13            [{'post': 'For whom it may concern..'}]   \n",
       "2    2020-09-03 07:29:59  [{'post': '**Data Science in Python**\n",
       "\n",
       "à¦¯à¦à...   \n",
       "3    2020-09-01 16:49:35  [{'post': 'Hello data enthusiasts people, I'm ...   \n",
       "4    2020-09-01 13:57:00                 [{'update_timestamp': 1598968620}]   \n",
       "...                  ...                                                ...   \n",
       "4152 2013-12-16 05:46:33                 [{'post': 'HAPPPPY BIRTHDAY 2 U'}]   \n",
       "4153 2013-12-15 18:40:03  [{'post': 'à¦à¦ à¦¸à§à¦ à¦à¦¤à¦¿à¦¹à¦¾à¦¸...   \n",
       "4154 2013-12-15 18:04:11                                                NaN   \n",
       "4155 2013-12-14 03:51:15                  [{'post': 'Happpy Birthday 2 u'}]   \n",
       "4156 2013-12-01 03:08:42  [{'post': 'Happpppy BIRTHday\n",
       " Like this page>...   \n",
       "\n",
       "                                                  title  \\\n",
       "0         Shaon Sikder posted in Department of ECE,EWU.   \n",
       "1      Shaon Sikder posted in EWU ECE Telecom Rocker's.   \n",
       "2     Shaon Sikder posted in Data Science Bangladesh...   \n",
       "3                      Shaon Sikder updated his status.   \n",
       "4                                                   NaN   \n",
       "...                                                 ...   \n",
       "4152  Shaon Sikder wrote on à¦à§à¦§à§à¦²à§ à¦¬à¦...   \n",
       "4153                   Shaon Sikder updated his status.   \n",
       "4154                                                NaN   \n",
       "4155  Shaon Sikder wrote on Suvankar Mondal's timeline.   \n",
       "4156  Shaon Sikder wrote on à¦¸à¦¬à§à¦ à¦à¦¹à¦®à§...   \n",
       "\n",
       "                                            attachments  year      month  \\\n",
       "0                                                   NaN  2020  September   \n",
       "1                                                   NaN  2020  September   \n",
       "2     [{'data': [{'external_context': {'url': 'https...  2020  September   \n",
       "3                                                   NaN  2020  September   \n",
       "4                                                    []  2020  September   \n",
       "...                                                 ...   ...        ...   \n",
       "4152                                                NaN  2013   December   \n",
       "4153                                                NaN  2013   December   \n",
       "4154  [{'data': [{'media': {'uri': 'photos_and_video...  2013   December   \n",
       "4155                                                NaN  2013   December   \n",
       "4156                                                NaN  2013   December   \n",
       "\n",
       "      week_day  day      time month_year  \n",
       "0       Sunday   20  14:08:32    2020-09  \n",
       "1       Sunday   20  14:01:13    2020-09  \n",
       "2     Thursday    3  07:29:59    2020-09  \n",
       "3      Tuesday    1  16:49:35    2020-09  \n",
       "4      Tuesday    1  13:57:00    2020-09  \n",
       "...        ...  ...       ...        ...  \n",
       "4152    Monday   16  05:46:33    2013-12  \n",
       "4153    Sunday   15  18:40:03    2013-12  \n",
       "4154    Sunday   15  18:04:11    2013-12  \n",
       "4155  Saturday   14  03:51:15    2013-12  \n",
       "4156    Sunday    1  03:08:42    2013-12  \n",
       "\n",
       "[4157 rows x 10 columns]"
      ]
     },
     "execution_count": 8,
     "metadata": {},
     "output_type": "execute_result"
    }
   ],
   "source": [
    "df_mypost #removed tag columns"
   ]
  },
  {
   "cell_type": "code",
   "execution_count": 9,
   "metadata": {},
   "outputs": [
    {
     "name": "stderr",
     "output_type": "stream",
     "text": [
      "c:\\users\\shaon\\appdata\\local\\programs\\python\\python37\\lib\\site-packages\\ipykernel_launcher.py:1: SettingWithCopyWarning: \n",
      "A value is trying to be set on a copy of a slice from a DataFrame.\n",
      "Try using .loc[row_indexer,col_indexer] = value instead\n",
      "\n",
      "See the caveats in the documentation: https://pandas.pydata.org/pandas-docs/stable/user_guide/indexing.html#returning-a-view-versus-a-copy\n",
      "  \"\"\"Entry point for launching an IPython kernel.\n",
      "c:\\users\\shaon\\appdata\\local\\programs\\python\\python37\\lib\\site-packages\\ipykernel_launcher.py:2: SettingWithCopyWarning: \n",
      "A value is trying to be set on a copy of a slice from a DataFrame.\n",
      "Try using .loc[row_indexer,col_indexer] = value instead\n",
      "\n",
      "See the caveats in the documentation: https://pandas.pydata.org/pandas-docs/stable/user_guide/indexing.html#returning-a-view-versus-a-copy\n",
      "  \n"
     ]
    }
   ],
   "source": [
    "df_mypost['title'] = df_mypost['title'].astype(str)\n",
    "df_mypost['data'] = df_mypost['data'].astype(str)"
   ]
  },
  {
   "cell_type": "markdown",
   "metadata": {},
   "source": [
    "#### Total no of post per year"
   ]
  },
  {
   "cell_type": "code",
   "execution_count": 34,
   "metadata": {
    "scrolled": true
   },
   "outputs": [
    {
     "data": {
      "text/plain": [
       "<matplotlib.legend.Legend at 0x232f61cc548>"
      ]
     },
     "execution_count": 34,
     "metadata": {},
     "output_type": "execute_result"
    },
    {
     "data": {
      "image/png": "[encoded data removed]",
      "text/plain": [
       "<Figure size 432x288 with 1 Axes>"
      ]
     },
     "metadata": {
      "needs_background": "light"
     },
     "output_type": "display_data"
    }
   ],
   "source": [
    "df_mypost.groupby([\"year\",\"month\"]).size().unstack().plot(kind='bar',title=\"Total no of facebook post per year\",stacked=True) \n",
    "plt.legend(bbox_to_anchor=(1.0, 1.04))"
   ]
  },
  {
   "cell_type": "markdown",
   "metadata": {},
   "source": [
    "#### Total post by month in 2020"
   ]
  },
  {
   "cell_type": "code",
   "execution_count": 33,
   "metadata": {
    "scrolled": true
   },
   "outputs": [
    {
     "data": {
      "text/plain": [
       "<matplotlib.legend.Legend at 0x232f9e18f08>"
      ]
     },
     "execution_count": 33,
     "metadata": {},
     "output_type": "execute_result"
    },
    {
     "data": {
      "image/png": "[encoded data removed]",
      "text/plain": [
       "<Figure size 432x288 with 1 Axes>"
      ]
     },
     "metadata": {
      "needs_background": "light"
     },
     "output_type": "display_data"
    }
   ],
   "source": [
    "df_mypost[df_mypost['year']==2020].groupby([\"month_year\",\"week_day\"]).size().unstack().plot(kind='bar',title=\"Total post by month in 2020\",stacked=True) \n",
    "plt.legend(bbox_to_anchor=(1.0,1.0))"
   ]
  },
  {
   "cell_type": "markdown",
   "metadata": {},
   "source": [
    "#### Avergae post per month in 2020"
   ]
  },
  {
   "cell_type": "code",
   "execution_count": 31,
   "metadata": {},
   "outputs": [
    {
     "data": {
      "text/plain": [
       "5.333333333333333"
      ]
     },
     "execution_count": 31,
     "metadata": {},
     "output_type": "execute_result"
    }
   ],
   "source": [
    "df_mypost[df_mypost['year']==2020].groupby([\"month_year\"]).data.count().mean()"
   ]
  },
  {
   "cell_type": "code",
   "execution_count": 12,
   "metadata": {},
   "outputs": [
    {
     "data": {
      "text/plain": [
       "Index(['timestamp', 'data', 'title', 'attachments', 'year', 'month',\n",
       "       'week_day', 'day', 'time', 'month_year'],\n",
       "      dtype='object')"
      ]
     },
     "execution_count": 12,
     "metadata": {},
     "output_type": "execute_result"
    }
   ],
   "source": [
    "df_mypost.columns"
   ]
  },
  {
   "cell_type": "markdown",
   "metadata": {},
   "source": [
    "#### Average no of post in every week"
   ]
  },
  {
   "cell_type": "code",
   "execution_count": 35,
   "metadata": {},
   "outputs": [
    {
     "data": {
      "image/png": "[encoded data removed]",
      "text/plain": [
       "<Figure size 432x288 with 1 Axes>"
      ]
     },
     "metadata": {
      "needs_background": "light"
     },
     "output_type": "display_data"
    }
   ],
   "source": [
    "# Average posts per day \n",
    "weighted = df_mypost.groupby('year').week_day.value_counts(normalize=True).unstack().sum().sort_values().plot(kind='bar',title=\"Average no of post per day\")"
   ]
  },
  {
   "cell_type": "markdown",
   "metadata": {},
   "source": [
    "#### Daily fb post by hour period"
   ]
  },
  {
   "cell_type": "code",
   "execution_count": 14,
   "metadata": {
    "scrolled": true
   },
   "outputs": [
    {
     "data": {
      "text/plain": [
       "<matplotlib.axes._subplots.AxesSubplot at 0x232f61dfc08>"
      ]
     },
     "execution_count": 14,
     "metadata": {},
     "output_type": "execute_result"
    },
    {
     "data": {
      "image/png": "[encoded data removed]",
      "text/plain": [
       "<Figure size 432x288 with 1 Axes>"
      ]
     },
     "metadata": {
      "needs_background": "light"
     },
     "output_type": "display_data"
    }
   ],
   "source": [
    "#facebook posts by hour, I need to split the first 2 digits from time\n",
    "df_mypost['hour'] = df_mypost['time'].apply(lambda x: x.hour)\n",
    "time_weight = df_mypost.groupby('year').hour.value_counts(normalize=True).unstack()\n",
    "time_weight.sum().sort_index().plot(kind='bar',title=\"Daily fb post by hour period\")"
   ]
  },
  {
   "cell_type": "markdown",
   "metadata": {},
   "source": [
    "#### Most frequent post by months"
   ]
  },
  {
   "cell_type": "code",
   "execution_count": 15,
   "metadata": {},
   "outputs": [
    {
     "data": {
      "text/plain": [
       "[Text(0, 0, 'Jan'),\n",
       " Text(0, 0, 'Feb'),\n",
       " Text(0, 0, 'Mar'),\n",
       " Text(0, 0, 'Apr'),\n",
       " Text(0, 0, 'May'),\n",
       " Text(0, 0, 'Jun'),\n",
       " Text(0, 0, 'Jul'),\n",
       " Text(0, 0, 'Aug'),\n",
       " Text(0, 0, 'Sept'),\n",
       " Text(0, 0, 'Oct'),\n",
       " Text(0, 0, 'Nov'),\n",
       " Text(0, 0, 'Dec')]"
      ]
     },
     "execution_count": 15,
     "metadata": {},
     "output_type": "execute_result"
    },
    {
     "data": {
      "image/png": "[encoded data removed]",
      "text/plain": [
       "<Figure size 432x288 with 1 Axes>"
      ]
     },
     "metadata": {
      "needs_background": "light"
     },
     "output_type": "display_data"
    }
   ],
   "source": [
    "month_weight = df_mypost.groupby('year').month.value_counts(normalize=True).unstack()\n",
    "labels = ['Jan','Feb','Mar','Apr','May','Jun','Jul','Aug','Sept','Oct','Nov','Dec']\n",
    "fig, ax  = plt.subplots()\n",
    "month_weight.sum().sort_index().plot(kind='bar')\n",
    "plt.title('Most frequent post by months')\n",
    "plt.ylabel('Weighted Average')\n",
    "plt.xlabel('Months')\n",
    "ax.set_xticklabels(labels)"
   ]
  },
  {
   "cell_type": "code",
   "execution_count": null,
   "metadata": {},
   "outputs": [],
   "source": []
  }
 ],
 "metadata": {
  "kernelspec": {
   "display_name": "Python 3",
   "language": "python",
   "name": "python3"
  },
  "language_info": {
   "codemirror_mode": {
    "name": "ipython",
    "version": 3
   },
   "file_extension": ".py",
   "mimetype": "text/x-python",
   "name": "python",
   "nbconvert_exporter": "python",
   "pygments_lexer": "ipython3",
   "version": "3.7.7"
  }
 },
 "nbformat": 4,
 "nbformat_minor": 4
}
